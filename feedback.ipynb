{
 "cells": [
  {
   "cell_type": "code",
   "execution_count": 11,
   "metadata": {},
   "outputs": [],
   "source": [
    "from utils import *"
   ]
  },
  {
   "cell_type": "code",
   "execution_count": 12,
   "metadata": {},
   "outputs": [],
   "source": [
    "review_1 = \"\"\"\n",
    "Foodpandar moto popularity paite hole prochur offer dite hobe 1st . Startup a kono offer nai main \\\n",
    "kipta to apnara vai,mon boro korun tarpor app namabo\n",
    "\"\"\"\n",
    "review_2 = \"\"\"\n",
    "alu ar sosage chara ar kicu to nai apndr meatbox er moddhe🙂\n",
    "\"\"\"\n",
    "review_3 = \"\"\"\n",
    "আজকে যখন আমি গেলাম আপনাদের শপে তখন বলেন নাই কেনো, আর আগের আপনাদের মিটবক্সে আগে \\\n",
    "এতো আলু ছিলো না আজকে যে পরিমাণ আলু পাইছি তাতে আর আপনাদের মিটবক্স খাওয়া যাবে না\n",
    "\"\"\""
   ]
  },
  {
   "cell_type": "code",
   "execution_count": null,
   "metadata": {},
   "outputs": [],
   "source": [
    "english_review = convert_banglish_to_english(review)\n",
    "get_multiple_feedback(english_review)"
   ]
  },
  {
   "cell_type": "code",
   "execution_count": null,
   "metadata": {},
   "outputs": [],
   "source": [
    "english_review = convert_banglish_to_english(review_2)\n",
    "get_multiple_feedback(english_review)"
   ]
  },
  {
   "cell_type": "code",
   "execution_count": null,
   "metadata": {},
   "outputs": [],
   "source": [
    "bengali_review = convert_bengali_to_english(review_3)\n",
    "get_multiple_feedback(bengali_review)"
   ]
  }
 ],
 "metadata": {
  "kernelspec": {
   "display_name": "ggai-Ey2WQwgR-py3.10",
   "language": "python",
   "name": "python3"
  },
  "language_info": {
   "codemirror_mode": {
    "name": "ipython",
    "version": 3
   },
   "file_extension": ".py",
   "mimetype": "text/x-python",
   "name": "python",
   "nbconvert_exporter": "python",
   "pygments_lexer": "ipython3",
   "version": "3.10.7"
  },
  "orig_nbformat": 4
 },
 "nbformat": 4,
 "nbformat_minor": 2
}
